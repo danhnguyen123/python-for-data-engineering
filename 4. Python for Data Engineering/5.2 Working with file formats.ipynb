{
 "cells": [
  {
   "cell_type": "markdown",
   "id": "be858957",
   "metadata": {},
   "source": [
    "### <div id=\"py\"> Working with different file formats </div>\n",
    "\n",
    "\n",
    "\n",
    "- JSON (java script object notation)\n",
    "- CSV (Command Seperated Values)\n",
    "- Excel\n",
    "- Avro (Bigdata)\n",
    "- Parquet (Bigdata)"
   ]
  },
  {
   "cell_type": "code",
   "execution_count": null,
   "id": "cf57f80c",
   "metadata": {},
   "outputs": [],
   "source": []
  },
  {
   "cell_type": "markdown",
   "id": "db1ec6af",
   "metadata": {},
   "source": [
    "### Data comes in various forms\n",
    "\n",
    "<img src=\"images/data_gen.jpeg\">\n",
    "\n",
    "As a data person you will deal with various type of data and it's important to learn how to handle these file formats "
   ]
  },
  {
   "cell_type": "markdown",
   "id": "96639378",
   "metadata": {},
   "source": [
    "\n",
    "\n",
    "## Working in JSON files\n",
    "\n",
    "***\n",
    "Since its inception, JSON has quickly become the de facto standard for information exchange. \n",
    "\n",
    "Chances are you’re here because you need to transport some data from here to there. Perhaps you’re gathering information through an API or storing your data in a document database. \n",
    "\n",
    "One way or another, you’re up to your neck in JSON, and you’ve got to Python your way out.\n",
    "\n",
    "\n",
    "\n",
    "\n",
    "\n",
    "\n"
   ]
  },
  {
   "cell_type": "markdown",
   "id": "4945d9c7",
   "metadata": {},
   "source": [
    "## A (Very) Brief History of JSON\n",
    "\n",
    "JSON stangs for JavaScript Object Notation was inspired by a subset of the JavaScript programming language dealing with object literal syntax. \n",
    "\n",
    "Ultimately, the community at large adopted JSON because it’s easy for both humans and machines to create and understand."
   ]
  },
  {
   "cell_type": "markdown",
   "id": "fa222af9",
   "metadata": {},
   "source": [
    "### Look, it’s JSON!\n",
    "```\n",
    "{\n",
    "    \"firstName\": \"Jane\",\n",
    "    \"lastName\": \"Doe\",\n",
    "    \"hobbies\": [\"running\", \"sky diving\", \"singing\"],\n",
    "    \"age\": 35,\n",
    "    \"children\": [\n",
    "        {\n",
    "            \"firstName\": \"Alice\",\n",
    "            \"age\": 6\n",
    "        },\n",
    "        {\n",
    "            \"firstName\": \"Bob\",\n",
    "            \"age\": 8\n",
    "        }\n",
    "    ]\n",
    "}\n",
    "```"
   ]
  },
  {
   "cell_type": "markdown",
   "id": "ceafc60f",
   "metadata": {},
   "source": [
    "### Does this look similar to something?\n",
    "\n",
    "YES! Python **dictionary!**"
   ]
  },
  {
   "cell_type": "markdown",
   "id": "7ff0b925",
   "metadata": {},
   "source": [
    "### Writing JSON files"
   ]
  },
  {
   "cell_type": "code",
   "execution_count": 1,
   "id": "19cba507",
   "metadata": {},
   "outputs": [],
   "source": [
    "import json"
   ]
  },
  {
   "cell_type": "code",
   "execution_count": 2,
   "id": "481ec6f9",
   "metadata": {},
   "outputs": [],
   "source": [
    "data = {\n",
    "    \"president\": {\n",
    "        \"name\": \"Zaphod Beeblebrox\",\n",
    "        \"species\": \"Betelgeusian\"\n",
    "    }\n",
    "}"
   ]
  },
  {
   "cell_type": "code",
   "execution_count": 3,
   "id": "8cd43843",
   "metadata": {},
   "outputs": [],
   "source": [
    "with open(\"data_file.json\", \"w\") as write_file:\n",
    "    json.dump(data, write_file)"
   ]
  },
  {
   "cell_type": "markdown",
   "id": "040a25a4",
   "metadata": {},
   "source": [
    " Note that `dump()` takes two positional arguments:\n",
    " 1. the data object to be serialized, and\n",
    " 2. the file-like object to which the bytes will be written."
   ]
  },
  {
   "cell_type": "markdown",
   "id": "9ae9f99b",
   "metadata": {},
   "source": [
    "### Reading JSON files"
   ]
  },
  {
   "cell_type": "code",
   "execution_count": 4,
   "id": "60eade2e",
   "metadata": {},
   "outputs": [],
   "source": [
    "with open(\"data_file.json\", \"r\") as read_file:\n",
    "    data = json.load(read_file)"
   ]
  },
  {
   "cell_type": "code",
   "execution_count": 5,
   "id": "cbb6e862",
   "metadata": {},
   "outputs": [
    {
     "data": {
      "text/plain": [
       "dict"
      ]
     },
     "execution_count": 5,
     "metadata": {},
     "output_type": "execute_result"
    }
   ],
   "source": [
    "type(data)"
   ]
  },
  {
   "cell_type": "code",
   "execution_count": 6,
   "id": "3a6c5f06",
   "metadata": {},
   "outputs": [
    {
     "data": {
      "text/plain": [
       "{'president': {'name': 'Zaphod Beeblebrox', 'species': 'Betelgeusian'}}"
      ]
     },
     "execution_count": 6,
     "metadata": {},
     "output_type": "execute_result"
    }
   ],
   "source": [
    "data"
   ]
  },
  {
   "cell_type": "markdown",
   "id": "4880e5c1",
   "metadata": {},
   "source": [
    "### You can also read JSON as DataFrame in Pandas"
   ]
  },
  {
   "cell_type": "code",
   "execution_count": null,
   "id": "3448afbd",
   "metadata": {},
   "outputs": [
    {
     "name": "stdout",
     "output_type": "stream",
     "text": [
      "       Courses  Discount\n",
      "Index0  Pandas      1200\n",
      "Index1  Hadoop      1500\n",
      "Index2   Spark      1800\n"
     ]
    },
    {
     "name": "stderr",
     "output_type": "stream",
     "text": [
      "C:\\Users\\ADMIN\\AppData\\Local\\Temp\\ipykernel_23492\\1382010807.py:9: FutureWarning: Passing literal json to 'read_json' is deprecated and will be removed in a future version. To read from a literal string, wrap it in a 'StringIO' object.\n",
      "  df2 = pd.read_json(jsonStr, orient ='index')\n"
     ]
    }
   ],
   "source": [
    "import pandas as pd\n",
    "\n",
    "jsonStr = '''{\"Index0\":{\"Courses\": \"Pandas\",\"Discount\": \"1200\"},\n",
    "           \"Index1\":{\"Courses\": \"Hadoop\",\"Discount\": \"1500\"},\n",
    "           \"Index2\":{\"Courses\": \"Spark\",\"Discount\": \"1800\"}\n",
    "          }'''\n",
    "\n",
    "# Convert JSON to DataFrame Using read_json()\n",
    "df2 = pd.read_json(jsonStr, orient ='index')\n",
    "print(df2)"
   ]
  },
  {
   "cell_type": "code",
   "execution_count": 8,
   "id": "83095091",
   "metadata": {},
   "outputs": [
    {
     "data": {
      "text/html": [
       "<div>\n",
       "<style scoped>\n",
       "    .dataframe tbody tr th:only-of-type {\n",
       "        vertical-align: middle;\n",
       "    }\n",
       "\n",
       "    .dataframe tbody tr th {\n",
       "        vertical-align: top;\n",
       "    }\n",
       "\n",
       "    .dataframe thead th {\n",
       "        text-align: right;\n",
       "    }\n",
       "</style>\n",
       "<table border=\"1\" class=\"dataframe\">\n",
       "  <thead>\n",
       "    <tr style=\"text-align: right;\">\n",
       "      <th></th>\n",
       "      <th>Courses</th>\n",
       "      <th>Discount</th>\n",
       "    </tr>\n",
       "  </thead>\n",
       "  <tbody>\n",
       "    <tr>\n",
       "      <th>Index0</th>\n",
       "      <td>Pandas</td>\n",
       "      <td>1200</td>\n",
       "    </tr>\n",
       "    <tr>\n",
       "      <th>Index1</th>\n",
       "      <td>Hadoop</td>\n",
       "      <td>1500</td>\n",
       "    </tr>\n",
       "    <tr>\n",
       "      <th>Index2</th>\n",
       "      <td>Spark</td>\n",
       "      <td>1800</td>\n",
       "    </tr>\n",
       "  </tbody>\n",
       "</table>\n",
       "</div>"
      ],
      "text/plain": [
       "       Courses  Discount\n",
       "Index0  Pandas      1200\n",
       "Index1  Hadoop      1500\n",
       "Index2   Spark      1800"
      ]
     },
     "execution_count": 8,
     "metadata": {},
     "output_type": "execute_result"
    }
   ],
   "source": [
    "df2"
   ]
  },
  {
   "cell_type": "code",
   "execution_count": 10,
   "id": "e723932b",
   "metadata": {},
   "outputs": [
    {
     "data": {
      "text/plain": [
       "\"{'president': {'name': 'Zaphod Beeblebrox', 'species': 'Betelgeusian'}}\""
      ]
     },
     "execution_count": 10,
     "metadata": {},
     "output_type": "execute_result"
    }
   ],
   "source": [
    "str(data)"
   ]
  },
  {
   "cell_type": "code",
   "execution_count": 17,
   "id": "0626c9ec",
   "metadata": {},
   "outputs": [
    {
     "data": {
      "text/plain": [
       "[{'name': 'Zaphod Beeblebrox', 'species': 'Betelgeusian'},\n",
       " {'name': 'Zaphod Beeblebrox', 'species': 'Betelgeusian'},\n",
       " {'name': 'Zaphod Beeblebrox', 'species': 'Betelgeusian'}]"
      ]
     },
     "execution_count": 17,
     "metadata": {},
     "output_type": "execute_result"
    }
   ],
   "source": [
    "data"
   ]
  },
  {
   "cell_type": "code",
   "execution_count": 14,
   "id": "23c2d735",
   "metadata": {},
   "outputs": [],
   "source": [
    "data = [{'name': 'Zaphod Beeblebrox', 'species': 'Betelgeusian'}, \n",
    "        {'name': 'Zaphod Beeblebrox', 'species': 'Betelgeusian'},\n",
    "        {'name': 'Zaphod Beeblebrox', 'species': 'Betelgeusian'}\n",
    "    ]"
   ]
  },
  {
   "cell_type": "code",
   "execution_count": 15,
   "id": "784d2826",
   "metadata": {},
   "outputs": [
    {
     "data": {
      "text/html": [
       "<div>\n",
       "<style scoped>\n",
       "    .dataframe tbody tr th:only-of-type {\n",
       "        vertical-align: middle;\n",
       "    }\n",
       "\n",
       "    .dataframe tbody tr th {\n",
       "        vertical-align: top;\n",
       "    }\n",
       "\n",
       "    .dataframe thead th {\n",
       "        text-align: right;\n",
       "    }\n",
       "</style>\n",
       "<table border=\"1\" class=\"dataframe\">\n",
       "  <thead>\n",
       "    <tr style=\"text-align: right;\">\n",
       "      <th></th>\n",
       "      <th>name</th>\n",
       "      <th>species</th>\n",
       "    </tr>\n",
       "  </thead>\n",
       "  <tbody>\n",
       "    <tr>\n",
       "      <th>0</th>\n",
       "      <td>Zaphod Beeblebrox</td>\n",
       "      <td>Betelgeusian</td>\n",
       "    </tr>\n",
       "    <tr>\n",
       "      <th>1</th>\n",
       "      <td>Zaphod Beeblebrox</td>\n",
       "      <td>Betelgeusian</td>\n",
       "    </tr>\n",
       "    <tr>\n",
       "      <th>2</th>\n",
       "      <td>Zaphod Beeblebrox</td>\n",
       "      <td>Betelgeusian</td>\n",
       "    </tr>\n",
       "  </tbody>\n",
       "</table>\n",
       "</div>"
      ],
      "text/plain": [
       "                name       species\n",
       "0  Zaphod Beeblebrox  Betelgeusian\n",
       "1  Zaphod Beeblebrox  Betelgeusian\n",
       "2  Zaphod Beeblebrox  Betelgeusian"
      ]
     },
     "execution_count": 15,
     "metadata": {},
     "output_type": "execute_result"
    }
   ],
   "source": [
    "pd.DataFrame(data)"
   ]
  },
  {
   "cell_type": "markdown",
   "id": "0097b560",
   "metadata": {},
   "source": [
    "### Convert Dict To DF"
   ]
  },
  {
   "cell_type": "code",
   "execution_count": 18,
   "id": "06bceead",
   "metadata": {},
   "outputs": [],
   "source": [
    "data = {\n",
    "    \"president\": {\n",
    "        \"name\": \"Zaphod Beeblebrox\",\n",
    "        \"species\": \"Betelgeusian\"\n",
    "    }\n",
    "}"
   ]
  },
  {
   "cell_type": "code",
   "execution_count": 19,
   "id": "84371c6d",
   "metadata": {},
   "outputs": [],
   "source": [
    "import pandas as pd\n",
    "\n",
    "df3 = pd.DataFrame.from_dict(data, orient ='index')"
   ]
  },
  {
   "cell_type": "code",
   "execution_count": 20,
   "id": "9522c07e",
   "metadata": {},
   "outputs": [
    {
     "data": {
      "text/html": [
       "<div>\n",
       "<style scoped>\n",
       "    .dataframe tbody tr th:only-of-type {\n",
       "        vertical-align: middle;\n",
       "    }\n",
       "\n",
       "    .dataframe tbody tr th {\n",
       "        vertical-align: top;\n",
       "    }\n",
       "\n",
       "    .dataframe thead th {\n",
       "        text-align: right;\n",
       "    }\n",
       "</style>\n",
       "<table border=\"1\" class=\"dataframe\">\n",
       "  <thead>\n",
       "    <tr style=\"text-align: right;\">\n",
       "      <th></th>\n",
       "      <th>name</th>\n",
       "      <th>species</th>\n",
       "    </tr>\n",
       "  </thead>\n",
       "  <tbody>\n",
       "    <tr>\n",
       "      <th>president</th>\n",
       "      <td>Zaphod Beeblebrox</td>\n",
       "      <td>Betelgeusian</td>\n",
       "    </tr>\n",
       "  </tbody>\n",
       "</table>\n",
       "</div>"
      ],
      "text/plain": [
       "                        name       species\n",
       "president  Zaphod Beeblebrox  Betelgeusian"
      ]
     },
     "execution_count": 20,
     "metadata": {},
     "output_type": "execute_result"
    }
   ],
   "source": [
    "df3"
   ]
  },
  {
   "cell_type": "markdown",
   "id": "140b0503",
   "metadata": {},
   "source": [
    "## Working with CSV files"
   ]
  },
  {
   "cell_type": "markdown",
   "id": "ee495711",
   "metadata": {},
   "source": [
    "A CSV file (Comma Separated Values file) is a type of plain text file that uses specific structuring to arrange tabular data. \n",
    "\n",
    "It’s a plain text file that has data separated by commas!\n",
    "\n",
    "```\n",
    "column 1 name,column 2 name, column 3 name\n",
    "first row data 1,first row data 2,first row data 3\n",
    "second row data 1,second row data 2,second row data 3\n",
    "...\n",
    "```"
   ]
  },
  {
   "cell_type": "code",
   "execution_count": 21,
   "id": "40170091",
   "metadata": {},
   "outputs": [],
   "source": [
    "df = pd.read_csv('data/hrdata.csv', index_col='Name')"
   ]
  },
  {
   "cell_type": "code",
   "execution_count": 22,
   "id": "e4c610f8",
   "metadata": {},
   "outputs": [
    {
     "data": {
      "text/html": [
       "<div>\n",
       "<style scoped>\n",
       "    .dataframe tbody tr th:only-of-type {\n",
       "        vertical-align: middle;\n",
       "    }\n",
       "\n",
       "    .dataframe tbody tr th {\n",
       "        vertical-align: top;\n",
       "    }\n",
       "\n",
       "    .dataframe thead th {\n",
       "        text-align: right;\n",
       "    }\n",
       "</style>\n",
       "<table border=\"1\" class=\"dataframe\">\n",
       "  <thead>\n",
       "    <tr style=\"text-align: right;\">\n",
       "      <th></th>\n",
       "      <th>Hire Date</th>\n",
       "      <th>Salary</th>\n",
       "      <th>Sick Days remaining</th>\n",
       "    </tr>\n",
       "    <tr>\n",
       "      <th>Name</th>\n",
       "      <th></th>\n",
       "      <th></th>\n",
       "      <th></th>\n",
       "    </tr>\n",
       "  </thead>\n",
       "  <tbody>\n",
       "    <tr>\n",
       "      <th>Graham Chapman</th>\n",
       "      <td>03/15/14</td>\n",
       "      <td>50000.0</td>\n",
       "      <td>10</td>\n",
       "    </tr>\n",
       "    <tr>\n",
       "      <th>John Cleese</th>\n",
       "      <td>06/01/15</td>\n",
       "      <td>65000.0</td>\n",
       "      <td>8</td>\n",
       "    </tr>\n",
       "    <tr>\n",
       "      <th>Eric Idle</th>\n",
       "      <td>05/12/14</td>\n",
       "      <td>45000.0</td>\n",
       "      <td>10</td>\n",
       "    </tr>\n",
       "    <tr>\n",
       "      <th>Terry Jones</th>\n",
       "      <td>11/01/13</td>\n",
       "      <td>70000.0</td>\n",
       "      <td>3</td>\n",
       "    </tr>\n",
       "    <tr>\n",
       "      <th>Terry Gilliam</th>\n",
       "      <td>08/12/14</td>\n",
       "      <td>48000.0</td>\n",
       "      <td>7</td>\n",
       "    </tr>\n",
       "  </tbody>\n",
       "</table>\n",
       "</div>"
      ],
      "text/plain": [
       "               Hire Date   Salary  Sick Days remaining\n",
       "Name                                                  \n",
       "Graham Chapman  03/15/14  50000.0                   10\n",
       "John Cleese     06/01/15  65000.0                    8\n",
       "Eric Idle       05/12/14  45000.0                   10\n",
       "Terry Jones     11/01/13  70000.0                    3\n",
       "Terry Gilliam   08/12/14  48000.0                    7"
      ]
     },
     "execution_count": 22,
     "metadata": {},
     "output_type": "execute_result"
    }
   ],
   "source": [
    "df.head()"
   ]
  },
  {
   "cell_type": "code",
   "execution_count": 23,
   "id": "80af60f7",
   "metadata": {},
   "outputs": [],
   "source": [
    "df.reset_index(inplace=True)"
   ]
  },
  {
   "cell_type": "code",
   "execution_count": 24,
   "id": "b6b8eecd",
   "metadata": {},
   "outputs": [
    {
     "data": {
      "text/html": [
       "<div>\n",
       "<style scoped>\n",
       "    .dataframe tbody tr th:only-of-type {\n",
       "        vertical-align: middle;\n",
       "    }\n",
       "\n",
       "    .dataframe tbody tr th {\n",
       "        vertical-align: top;\n",
       "    }\n",
       "\n",
       "    .dataframe thead th {\n",
       "        text-align: right;\n",
       "    }\n",
       "</style>\n",
       "<table border=\"1\" class=\"dataframe\">\n",
       "  <thead>\n",
       "    <tr style=\"text-align: right;\">\n",
       "      <th></th>\n",
       "      <th>Name</th>\n",
       "      <th>Hire Date</th>\n",
       "      <th>Salary</th>\n",
       "      <th>Sick Days remaining</th>\n",
       "    </tr>\n",
       "  </thead>\n",
       "  <tbody>\n",
       "    <tr>\n",
       "      <th>0</th>\n",
       "      <td>Graham Chapman</td>\n",
       "      <td>03/15/14</td>\n",
       "      <td>50000.0</td>\n",
       "      <td>10</td>\n",
       "    </tr>\n",
       "    <tr>\n",
       "      <th>1</th>\n",
       "      <td>John Cleese</td>\n",
       "      <td>06/01/15</td>\n",
       "      <td>65000.0</td>\n",
       "      <td>8</td>\n",
       "    </tr>\n",
       "    <tr>\n",
       "      <th>2</th>\n",
       "      <td>Eric Idle</td>\n",
       "      <td>05/12/14</td>\n",
       "      <td>45000.0</td>\n",
       "      <td>10</td>\n",
       "    </tr>\n",
       "    <tr>\n",
       "      <th>3</th>\n",
       "      <td>Terry Jones</td>\n",
       "      <td>11/01/13</td>\n",
       "      <td>70000.0</td>\n",
       "      <td>3</td>\n",
       "    </tr>\n",
       "    <tr>\n",
       "      <th>4</th>\n",
       "      <td>Terry Gilliam</td>\n",
       "      <td>08/12/14</td>\n",
       "      <td>48000.0</td>\n",
       "      <td>7</td>\n",
       "    </tr>\n",
       "    <tr>\n",
       "      <th>5</th>\n",
       "      <td>Michael Palin</td>\n",
       "      <td>05/23/13</td>\n",
       "      <td>66000.0</td>\n",
       "      <td>8</td>\n",
       "    </tr>\n",
       "  </tbody>\n",
       "</table>\n",
       "</div>"
      ],
      "text/plain": [
       "             Name Hire Date   Salary  Sick Days remaining\n",
       "0  Graham Chapman  03/15/14  50000.0                   10\n",
       "1     John Cleese  06/01/15  65000.0                    8\n",
       "2       Eric Idle  05/12/14  45000.0                   10\n",
       "3     Terry Jones  11/01/13  70000.0                    3\n",
       "4   Terry Gilliam  08/12/14  48000.0                    7\n",
       "5   Michael Palin  05/23/13  66000.0                    8"
      ]
     },
     "execution_count": 24,
     "metadata": {},
     "output_type": "execute_result"
    }
   ],
   "source": [
    "df"
   ]
  },
  {
   "cell_type": "code",
   "execution_count": 25,
   "id": "69a25506",
   "metadata": {},
   "outputs": [
    {
     "data": {
      "text/plain": [
       "Name                    object\n",
       "Hire Date               object\n",
       "Salary                 float64\n",
       "Sick Days remaining      int64\n",
       "dtype: object"
      ]
     },
     "execution_count": 25,
     "metadata": {},
     "output_type": "execute_result"
    }
   ],
   "source": [
    "df.dtypes"
   ]
  },
  {
   "cell_type": "code",
   "execution_count": 28,
   "id": "35cb4247",
   "metadata": {},
   "outputs": [
    {
     "name": "stderr",
     "output_type": "stream",
     "text": [
      "C:\\Users\\ADMIN\\AppData\\Local\\Temp\\ipykernel_23492\\1106074679.py:1: UserWarning: Could not infer format, so each element will be parsed individually, falling back to `dateutil`. To ensure parsing is consistent and as-expected, please specify a format.\n",
      "  df = pd.read_csv('data/hrdata.csv', parse_dates=['Hire Date'])\n"
     ]
    }
   ],
   "source": [
    "df = pd.read_csv('data/hrdata.csv', parse_dates=['Hire Date'])"
   ]
  },
  {
   "cell_type": "code",
   "execution_count": 29,
   "id": "4997f3a3",
   "metadata": {},
   "outputs": [
    {
     "data": {
      "text/html": [
       "<div>\n",
       "<style scoped>\n",
       "    .dataframe tbody tr th:only-of-type {\n",
       "        vertical-align: middle;\n",
       "    }\n",
       "\n",
       "    .dataframe tbody tr th {\n",
       "        vertical-align: top;\n",
       "    }\n",
       "\n",
       "    .dataframe thead th {\n",
       "        text-align: right;\n",
       "    }\n",
       "</style>\n",
       "<table border=\"1\" class=\"dataframe\">\n",
       "  <thead>\n",
       "    <tr style=\"text-align: right;\">\n",
       "      <th></th>\n",
       "      <th>Name</th>\n",
       "      <th>Hire Date</th>\n",
       "      <th>Salary</th>\n",
       "      <th>Sick Days remaining</th>\n",
       "    </tr>\n",
       "  </thead>\n",
       "  <tbody>\n",
       "    <tr>\n",
       "      <th>0</th>\n",
       "      <td>Graham Chapman</td>\n",
       "      <td>2014-03-15</td>\n",
       "      <td>50000.0</td>\n",
       "      <td>10</td>\n",
       "    </tr>\n",
       "    <tr>\n",
       "      <th>1</th>\n",
       "      <td>John Cleese</td>\n",
       "      <td>2015-06-01</td>\n",
       "      <td>65000.0</td>\n",
       "      <td>8</td>\n",
       "    </tr>\n",
       "    <tr>\n",
       "      <th>2</th>\n",
       "      <td>Eric Idle</td>\n",
       "      <td>2014-05-12</td>\n",
       "      <td>45000.0</td>\n",
       "      <td>10</td>\n",
       "    </tr>\n",
       "    <tr>\n",
       "      <th>3</th>\n",
       "      <td>Terry Jones</td>\n",
       "      <td>2013-11-01</td>\n",
       "      <td>70000.0</td>\n",
       "      <td>3</td>\n",
       "    </tr>\n",
       "    <tr>\n",
       "      <th>4</th>\n",
       "      <td>Terry Gilliam</td>\n",
       "      <td>2014-08-12</td>\n",
       "      <td>48000.0</td>\n",
       "      <td>7</td>\n",
       "    </tr>\n",
       "    <tr>\n",
       "      <th>5</th>\n",
       "      <td>Michael Palin</td>\n",
       "      <td>2013-05-23</td>\n",
       "      <td>66000.0</td>\n",
       "      <td>8</td>\n",
       "    </tr>\n",
       "  </tbody>\n",
       "</table>\n",
       "</div>"
      ],
      "text/plain": [
       "             Name  Hire Date   Salary  Sick Days remaining\n",
       "0  Graham Chapman 2014-03-15  50000.0                   10\n",
       "1     John Cleese 2015-06-01  65000.0                    8\n",
       "2       Eric Idle 2014-05-12  45000.0                   10\n",
       "3     Terry Jones 2013-11-01  70000.0                    3\n",
       "4   Terry Gilliam 2014-08-12  48000.0                    7\n",
       "5   Michael Palin 2013-05-23  66000.0                    8"
      ]
     },
     "execution_count": 29,
     "metadata": {},
     "output_type": "execute_result"
    }
   ],
   "source": [
    "df"
   ]
  },
  {
   "cell_type": "code",
   "execution_count": 30,
   "id": "9cfd219e",
   "metadata": {},
   "outputs": [
    {
     "data": {
      "text/plain": [
       "Name                           object\n",
       "Hire Date              datetime64[ns]\n",
       "Salary                        float64\n",
       "Sick Days remaining             int64\n",
       "dtype: object"
      ]
     },
     "execution_count": 30,
     "metadata": {},
     "output_type": "execute_result"
    }
   ],
   "source": [
    "df.dtypes"
   ]
  },
  {
   "cell_type": "code",
   "execution_count": 31,
   "id": "9ceed2cb",
   "metadata": {},
   "outputs": [],
   "source": [
    "df.to_csv('data/hrdata_modified.csv')"
   ]
  },
  {
   "cell_type": "markdown",
   "id": "86e220c9",
   "metadata": {},
   "source": [
    "## Working with Excel Files"
   ]
  },
  {
   "cell_type": "markdown",
   "id": "160f022f",
   "metadata": {},
   "source": [
    "Excel spreadsheets are one of those things you might have to deal with at some point. Either it’s because your boss loves them or because marketing needs them, and you might have to learn how to work with spreadsheets.\n",
    "\n",
    "Many companies still prefer using Excel files for their data storage and analysis, as a data expert you should know how to handle these files programatically!\n",
    "\n",
    "To work with Excel files we have package in python `openpyxl`"
   ]
  },
  {
   "cell_type": "code",
   "execution_count": 32,
   "id": "d8954655",
   "metadata": {},
   "outputs": [
    {
     "name": "stdout",
     "output_type": "stream",
     "text": [
      "Defaulting to user installation because normal site-packages is not writeable\n",
      "Collecting openpyxl\n",
      "  Downloading openpyxl-3.1.5-py2.py3-none-any.whl.metadata (2.5 kB)\n",
      "Collecting et-xmlfile (from openpyxl)\n",
      "  Downloading et_xmlfile-2.0.0-py3-none-any.whl.metadata (2.7 kB)\n",
      "Downloading openpyxl-3.1.5-py2.py3-none-any.whl (250 kB)\n",
      "Downloading et_xmlfile-2.0.0-py3-none-any.whl (18 kB)\n",
      "Installing collected packages: et-xmlfile, openpyxl\n",
      "Successfully installed et-xmlfile-2.0.0 openpyxl-3.1.5\n",
      "Note: you may need to restart the kernel to use updated packages.\n"
     ]
    },
    {
     "name": "stderr",
     "output_type": "stream",
     "text": [
      "\n",
      "[notice] A new release of pip is available: 24.2 -> 24.3.1\n",
      "[notice] To update, run: C:\\Users\\ADMIN\\AppData\\Local\\Microsoft\\WindowsApps\\PythonSoftwareFoundation.Python.3.12_qbz5n2kfra8p0\\python.exe -m pip install --upgrade pip\n"
     ]
    }
   ],
   "source": [
    "pip install openpyxl"
   ]
  },
  {
   "cell_type": "markdown",
   "id": "5007e215",
   "metadata": {},
   "source": [
    "### Basics of Excel\n",
    "\n",
    "<img src=\"images/excel.png\" width=550>"
   ]
  },
  {
   "cell_type": "code",
   "execution_count": null,
   "id": "37ea8610",
   "metadata": {},
   "outputs": [],
   "source": [
    "# Create dummy data and save to excel file\n",
    "\n",
    "from openpyxl import Workbook\n",
    "\n",
    "workbook = Workbook()\n",
    "sheet = workbook.active\n",
    "\n",
    "sheet[\"A1\"] = \"hello\"\n",
    "sheet[\"B1\"] = \"world!\"\n",
    "\n",
    "workbook.save(filename=\"hello_world.xlsx\")"
   ]
  },
  {
   "cell_type": "code",
   "execution_count": 33,
   "id": "f417c6ce",
   "metadata": {},
   "outputs": [],
   "source": [
    "#Reading excel file\n",
    "\n",
    "from openpyxl import load_workbook\n",
    "workbook = load_workbook(filename=\"data/sample-xlsx-file.xlsx\")"
   ]
  },
  {
   "cell_type": "code",
   "execution_count": 34,
   "id": "ead1d461",
   "metadata": {},
   "outputs": [
    {
     "data": {
      "text/plain": [
       "['Employee', 'Department']"
      ]
     },
     "execution_count": 34,
     "metadata": {},
     "output_type": "execute_result"
    }
   ],
   "source": [
    "workbook.sheetnames"
   ]
  },
  {
   "cell_type": "code",
   "execution_count": 35,
   "id": "f6ac9bd8",
   "metadata": {},
   "outputs": [
    {
     "data": {
      "text/plain": [
       "<Worksheet \"Employee\">"
      ]
     },
     "execution_count": 35,
     "metadata": {},
     "output_type": "execute_result"
    }
   ],
   "source": [
    "workbook.active"
   ]
  },
  {
   "cell_type": "code",
   "execution_count": 36,
   "id": "6576d18c",
   "metadata": {},
   "outputs": [],
   "source": [
    "sheet = workbook.active"
   ]
  },
  {
   "cell_type": "code",
   "execution_count": 37,
   "id": "e897bf90",
   "metadata": {},
   "outputs": [
    {
     "data": {
      "text/plain": [
       "<Worksheet \"Employee\">"
      ]
     },
     "execution_count": 37,
     "metadata": {},
     "output_type": "execute_result"
    }
   ],
   "source": [
    "sheet"
   ]
  },
  {
   "cell_type": "code",
   "execution_count": 38,
   "id": "0c837c19",
   "metadata": {},
   "outputs": [
    {
     "data": {
      "text/plain": [
       "'Employee'"
      ]
     },
     "execution_count": 38,
     "metadata": {},
     "output_type": "execute_result"
    }
   ],
   "source": [
    "sheet.title"
   ]
  },
  {
   "cell_type": "code",
   "execution_count": 39,
   "id": "3bc2d417",
   "metadata": {},
   "outputs": [
    {
     "data": {
      "text/plain": [
       "<Cell 'Employee'.A1>"
      ]
     },
     "execution_count": 39,
     "metadata": {},
     "output_type": "execute_result"
    }
   ],
   "source": [
    "sheet[\"A1\"]"
   ]
  },
  {
   "cell_type": "code",
   "execution_count": 40,
   "id": "c029da1d",
   "metadata": {},
   "outputs": [
    {
     "data": {
      "text/plain": [
       "'Name'"
      ]
     },
     "execution_count": 40,
     "metadata": {},
     "output_type": "execute_result"
    }
   ],
   "source": [
    "sheet[\"A1\"].value"
   ]
  },
  {
   "cell_type": "code",
   "execution_count": 41,
   "id": "5f785b8e",
   "metadata": {},
   "outputs": [
    {
     "data": {
      "text/plain": [
       "<Cell 'Employee'.F10>"
      ]
     },
     "execution_count": 41,
     "metadata": {},
     "output_type": "execute_result"
    }
   ],
   "source": [
    "sheet.cell(row=10, column=6)"
   ]
  },
  {
   "cell_type": "code",
   "execution_count": 42,
   "id": "1cd98ca8",
   "metadata": {},
   "outputs": [
    {
     "data": {
      "text/plain": [
       "datetime.datetime(1965, 1, 13, 0, 0)"
      ]
     },
     "execution_count": 42,
     "metadata": {},
     "output_type": "execute_result"
    }
   ],
   "source": [
    "sheet.cell(row=3, column=3).value"
   ]
  },
  {
   "cell_type": "code",
   "execution_count": null,
   "id": "eb1e0b38",
   "metadata": {},
   "outputs": [],
   "source": [
    "sheet[\"A1:C2\"]"
   ]
  },
  {
   "cell_type": "code",
   "execution_count": 43,
   "id": "192ba25b",
   "metadata": {},
   "outputs": [
    {
     "name": "stdout",
     "output_type": "stream",
     "text": [
      "('Name', 'Email', 'Date Of Birth', 'Salary', 'Department', None)\n",
      "('Rajeev Singh', 'rajeev@example.com', datetime.datetime(1992, 7, 21, 0, 0), 1500000.0, 'Software Engineering', None)\n",
      "('John Doe', 'john@example.com', datetime.datetime(1965, 1, 13, 0, 0), 1300000.0, 'Sales', None)\n",
      "('Jack Sparrow', 'jack@example.com', datetime.datetime(1986, 12, 19, 0, 0), 1000000.0, 'HR', None)\n",
      "('Steven Cook', 'steven@example.com', datetime.datetime(1994, 5, 4, 0, 0), 1200000.0, 'Marketing', None)\n",
      "(None, None, None, None, None, None)\n",
      "(None, None, None, None, None, None)\n",
      "(None, None, None, None, None, None)\n",
      "(None, None, None, None, None, None)\n",
      "(None, None, None, None, None, None)\n"
     ]
    }
   ],
   "source": [
    "for row in sheet.iter_rows(values_only=True):\n",
    "    print(row)"
   ]
  },
  {
   "cell_type": "markdown",
   "id": "71ce2761",
   "metadata": {},
   "source": [
    "### You can read Excel file as DataFrame using Pandas"
   ]
  },
  {
   "cell_type": "code",
   "execution_count": 44,
   "id": "96673c05",
   "metadata": {},
   "outputs": [],
   "source": [
    "excel_df = pd.read_excel('data/sample-xlsx-file.xlsx')"
   ]
  },
  {
   "cell_type": "code",
   "execution_count": 45,
   "id": "f4129976",
   "metadata": {},
   "outputs": [
    {
     "data": {
      "text/html": [
       "<div>\n",
       "<style scoped>\n",
       "    .dataframe tbody tr th:only-of-type {\n",
       "        vertical-align: middle;\n",
       "    }\n",
       "\n",
       "    .dataframe tbody tr th {\n",
       "        vertical-align: top;\n",
       "    }\n",
       "\n",
       "    .dataframe thead th {\n",
       "        text-align: right;\n",
       "    }\n",
       "</style>\n",
       "<table border=\"1\" class=\"dataframe\">\n",
       "  <thead>\n",
       "    <tr style=\"text-align: right;\">\n",
       "      <th></th>\n",
       "      <th>Name</th>\n",
       "      <th>Email</th>\n",
       "      <th>Date Of Birth</th>\n",
       "      <th>Salary</th>\n",
       "      <th>Department</th>\n",
       "    </tr>\n",
       "  </thead>\n",
       "  <tbody>\n",
       "    <tr>\n",
       "      <th>0</th>\n",
       "      <td>Rajeev Singh</td>\n",
       "      <td>rajeev@example.com</td>\n",
       "      <td>1992-07-21</td>\n",
       "      <td>1500000</td>\n",
       "      <td>Software Engineering</td>\n",
       "    </tr>\n",
       "    <tr>\n",
       "      <th>1</th>\n",
       "      <td>John Doe</td>\n",
       "      <td>john@example.com</td>\n",
       "      <td>1965-01-13</td>\n",
       "      <td>1300000</td>\n",
       "      <td>Sales</td>\n",
       "    </tr>\n",
       "    <tr>\n",
       "      <th>2</th>\n",
       "      <td>Jack Sparrow</td>\n",
       "      <td>jack@example.com</td>\n",
       "      <td>1986-12-19</td>\n",
       "      <td>1000000</td>\n",
       "      <td>HR</td>\n",
       "    </tr>\n",
       "    <tr>\n",
       "      <th>3</th>\n",
       "      <td>Steven Cook</td>\n",
       "      <td>steven@example.com</td>\n",
       "      <td>1994-05-04</td>\n",
       "      <td>1200000</td>\n",
       "      <td>Marketing</td>\n",
       "    </tr>\n",
       "  </tbody>\n",
       "</table>\n",
       "</div>"
      ],
      "text/plain": [
       "           Name               Email Date Of Birth   Salary  \\\n",
       "0  Rajeev Singh  rajeev@example.com    1992-07-21  1500000   \n",
       "1      John Doe    john@example.com    1965-01-13  1300000   \n",
       "2  Jack Sparrow    jack@example.com    1986-12-19  1000000   \n",
       "3   Steven Cook  steven@example.com    1994-05-04  1200000   \n",
       "\n",
       "             Department  \n",
       "0  Software Engineering  \n",
       "1                 Sales  \n",
       "2                    HR  \n",
       "3             Marketing  "
      ]
     },
     "execution_count": 45,
     "metadata": {},
     "output_type": "execute_result"
    }
   ],
   "source": [
    "excel_df"
   ]
  },
  {
   "cell_type": "code",
   "execution_count": 54,
   "id": "f04847f4",
   "metadata": {},
   "outputs": [
    {
     "data": {
      "text/html": [
       "<div>\n",
       "<style scoped>\n",
       "    .dataframe tbody tr th:only-of-type {\n",
       "        vertical-align: middle;\n",
       "    }\n",
       "\n",
       "    .dataframe tbody tr th {\n",
       "        vertical-align: top;\n",
       "    }\n",
       "\n",
       "    .dataframe thead th {\n",
       "        text-align: right;\n",
       "    }\n",
       "</style>\n",
       "<table border=\"1\" class=\"dataframe\">\n",
       "  <thead>\n",
       "    <tr style=\"text-align: right;\">\n",
       "      <th></th>\n",
       "      <th>Name</th>\n",
       "      <th>Email</th>\n",
       "      <th>Date Of Birth</th>\n",
       "      <th>Salary</th>\n",
       "      <th>Department</th>\n",
       "    </tr>\n",
       "  </thead>\n",
       "  <tbody>\n",
       "    <tr>\n",
       "      <th>0</th>\n",
       "      <td>Rajeev Singh</td>\n",
       "      <td>rajeev@example.com</td>\n",
       "      <td>1992-07-21</td>\n",
       "      <td>1500000</td>\n",
       "      <td>Software Engineering</td>\n",
       "    </tr>\n",
       "    <tr>\n",
       "      <th>1</th>\n",
       "      <td>John Doe</td>\n",
       "      <td>john@example.com</td>\n",
       "      <td>1965-01-13</td>\n",
       "      <td>1300000</td>\n",
       "      <td>Sales</td>\n",
       "    </tr>\n",
       "    <tr>\n",
       "      <th>2</th>\n",
       "      <td>Jack Sparrow</td>\n",
       "      <td>jack@example.com</td>\n",
       "      <td>1986-12-19</td>\n",
       "      <td>1000000</td>\n",
       "      <td>HR</td>\n",
       "    </tr>\n",
       "    <tr>\n",
       "      <th>3</th>\n",
       "      <td>Steven Cook</td>\n",
       "      <td>steven@example.com</td>\n",
       "      <td>1994-05-04</td>\n",
       "      <td>1200000</td>\n",
       "      <td>Marketing</td>\n",
       "    </tr>\n",
       "  </tbody>\n",
       "</table>\n",
       "</div>"
      ],
      "text/plain": [
       "           Name               Email Date Of Birth   Salary  \\\n",
       "0  Rajeev Singh  rajeev@example.com    1992-07-21  1500000   \n",
       "1      John Doe    john@example.com    1965-01-13  1300000   \n",
       "2  Jack Sparrow    jack@example.com    1986-12-19  1000000   \n",
       "3   Steven Cook  steven@example.com    1994-05-04  1200000   \n",
       "\n",
       "             Department  \n",
       "0  Software Engineering  \n",
       "1                 Sales  \n",
       "2                    HR  \n",
       "3             Marketing  "
      ]
     },
     "execution_count": 54,
     "metadata": {},
     "output_type": "execute_result"
    }
   ],
   "source": [
    "# deparment = \n",
    "pd.read_excel('data/sample-xlsx-file.xlsx', sheet_name=1)"
   ]
  },
  {
   "cell_type": "code",
   "execution_count": null,
   "id": "81ca29d4",
   "metadata": {},
   "outputs": [],
   "source": [
    "pd.read_excel('data/sample-xlsx-file.xlsx', sheet_name=\"Department\")"
   ]
  },
  {
   "cell_type": "code",
   "execution_count": 57,
   "id": "1042994b",
   "metadata": {},
   "outputs": [],
   "source": [
    "# Overwrite\n",
    "excel_df.to_excel('data/sample-xlsx-file.xlsx', sheet_name=\"Pandas\")"
   ]
  },
  {
   "cell_type": "markdown",
   "id": "aad8c3c2",
   "metadata": {},
   "source": [
    "## Working with AVRO"
   ]
  },
  {
   "cell_type": "markdown",
   "id": "e58db039",
   "metadata": {},
   "source": [
    "Apache Avro is a data serialization format. We can store data as `.avro` files on disk. \n",
    "\n",
    "Avro files are typically used with Spark but Spark is completely independent of Avro.\n",
    "\n",
    "Avro is a row-based format that is suitable for evolving data schemas. One benefit of using Avro is that schema and metadata travels with the data.\n",
    "\n",
    "If you have an .avro file, you have the schema of the data as well. \n",
    "\n",
    "The Apache Avro Specification provides easy-to-read yet detailed information."
   ]
  },
  {
   "cell_type": "code",
   "execution_count": null,
   "id": "78034bbc",
   "metadata": {},
   "outputs": [],
   "source": [
    "pip install avro-python3"
   ]
  },
  {
   "cell_type": "code",
   "execution_count": 16,
   "id": "8fefc748",
   "metadata": {},
   "outputs": [],
   "source": [
    "# Python 3 with `avro-python3` package available\n",
    "import copy\n",
    "import json\n",
    "import avro\n",
    "from avro.datafile import DataFileWriter, DataFileReader\n",
    "from avro.io import DatumWriter, DatumReader"
   ]
  },
  {
   "cell_type": "code",
   "execution_count": 55,
   "id": "f0b82b8f",
   "metadata": {},
   "outputs": [],
   "source": [
    "\n",
    "# Note that we combined namespace and name to get \"full name\"\n",
    "schema = {\n",
    "    'name': 'avro.example.User',\n",
    "    'type': 'record',\n",
    "    'fields': [\n",
    "        {'name': 'name', 'type': 'string'},\n",
    "        {'name': 'age', 'type': 'int'}\n",
    "    ]\n",
    "}\n",
    "\n",
    "# Parse the schema so we can use it to write the data\n",
    "schema_parsed = avro.schema.Parse(json.dumps(schema))"
   ]
  },
  {
   "cell_type": "code",
   "execution_count": null,
   "id": "cd70674d",
   "metadata": {},
   "outputs": [],
   "source": [
    "schema_parsed"
   ]
  },
  {
   "cell_type": "code",
   "execution_count": 57,
   "id": "11cbe87f",
   "metadata": {},
   "outputs": [],
   "source": [
    "\n",
    "# Write data to an avro file\n",
    "with open('users.avro', 'wb') as f:\n",
    "    writer = DataFileWriter(f, DatumWriter(), schema_parsed)\n",
    "    writer.append({'name': 'Pierre-Simon Laplace', 'age': 77})\n",
    "    writer.append({'name': 'John von Neumann', 'age': 53})\n",
    "    writer.close()"
   ]
  },
  {
   "cell_type": "code",
   "execution_count": null,
   "id": "814999d1",
   "metadata": {},
   "outputs": [],
   "source": [
    "\n",
    "# Read data from an avro file\n",
    "with open('users.avro', 'rb') as f:\n",
    "    reader = DataFileReader(f, DatumReader())\n",
    "    metadata = copy.deepcopy(reader.meta)\n",
    "    schema_from_file = json.loads(metadata['avro.schema'])\n",
    "    users = [user for user in reader]\n",
    "    reader.close()\n",
    "\n",
    "print(f'Schema that we specified:\\n {schema}')\n",
    "print(f'Schema that we parsed:\\n {schema_parsed}')\n",
    "print(f'Schema from users.avro file:\\n {schema_from_file}')\n",
    "print(f'Users:\\n {users}')"
   ]
  },
  {
   "cell_type": "markdown",
   "id": "1ad7a488",
   "metadata": {},
   "source": [
    "### Reading Avro Using Pandas\n",
    "\n",
    "Avro format simply requires a schema and a list of records. We don’t need a dataframe to handle Avro files. \n",
    "\n",
    "However, we can write a `pandas` dataframe into an Avro file or read an Avro file into a `pandas` dataframe. \n",
    "\n",
    "To begin with, we can always represent a dataframe as a list of records and vice-versa"
   ]
  },
  {
   "cell_type": "code",
   "execution_count": null,
   "id": "e92ddfd0",
   "metadata": {},
   "outputs": [],
   "source": [
    "pip install pandavro"
   ]
  },
  {
   "cell_type": "code",
   "execution_count": 77,
   "id": "e8767509",
   "metadata": {},
   "outputs": [],
   "source": [
    "import copy\n",
    "import json\n",
    "import pandas as pd\n",
    "import pandavro as pdx\n",
    "from avro.datafile import DataFileReader\n",
    "from avro.io import DatumReader"
   ]
  },
  {
   "cell_type": "code",
   "execution_count": null,
   "id": "61a7ea6b",
   "metadata": {},
   "outputs": [],
   "source": [
    "# Data to be saved\n",
    "users = [{'name': 'Pierre-Simon Laplace', 'age': 77},\n",
    "         {'name': 'John von Neumann', 'age': 53}]\n",
    "users_df = pd.DataFrame.from_records(users)\n",
    "print(users_df)"
   ]
  },
  {
   "cell_type": "code",
   "execution_count": 79,
   "id": "cf12af26",
   "metadata": {},
   "outputs": [],
   "source": [
    "pdx.to_avro('data/users_test.avro', users_df)"
   ]
  },
  {
   "cell_type": "code",
   "execution_count": null,
   "id": "a0237ff5",
   "metadata": {},
   "outputs": [],
   "source": [
    "# Read the data back\n",
    "users_df_redux = pdx.from_avro('data/users_test.avro')\n",
    "print(type(users_df_redux))\n",
    "# <class 'pandas.core.frame.DataFrame'>\n"
   ]
  },
  {
   "cell_type": "code",
   "execution_count": null,
   "id": "db7256cc",
   "metadata": {},
   "outputs": [],
   "source": [
    "# Check the schema for \"users.avro\"\n",
    "with open('users.avro', 'rb') as f:\n",
    "    reader = DataFileReader(f, DatumReader())\n",
    "    metadata = copy.deepcopy(reader.meta)\n",
    "    schema_from_file = json.loads(metadata['avro.schema'])\n",
    "    reader.close()\n",
    "print(schema_from_file)"
   ]
  },
  {
   "cell_type": "markdown",
   "id": "e20c7e47",
   "metadata": {},
   "source": [
    "\n",
    "\n",
    "## Apache Spark : Process Parquet file\n",
    "\n",
    "## Kafka: Arvo"
   ]
  },
  {
   "cell_type": "code",
   "execution_count": null,
   "id": "c91be078",
   "metadata": {},
   "outputs": [],
   "source": [
    "# Apache Spark : Process Parquet file"
   ]
  },
  {
   "cell_type": "code",
   "execution_count": null,
   "id": "417200bb",
   "metadata": {},
   "outputs": [],
   "source": [
    "Parquet: Binary \n",
    "\n",
    "data \n",
    "metadata: kiểu dữ liệu,..."
   ]
  },
  {
   "cell_type": "code",
   "execution_count": null,
   "id": "4c5811e0",
   "metadata": {},
   "outputs": [],
   "source": []
  },
  {
   "cell_type": "code",
   "execution_count": null,
   "id": "8b9ddab9",
   "metadata": {},
   "outputs": [],
   "source": [
    "Lưu trữ dữ liệu theo cột"
   ]
  },
  {
   "cell_type": "code",
   "execution_count": null,
   "id": "c8b43555",
   "metadata": {},
   "outputs": [],
   "source": [
    "theo cột/theo dòng"
   ]
  },
  {
   "cell_type": "code",
   "execution_count": null,
   "id": "f6f105dd",
   "metadata": {},
   "outputs": [],
   "source": [
    "theo cột: dwh \n",
    "tối ưu performance query cho analytical query (select, group by, join)"
   ]
  },
  {
   "cell_type": "code",
   "execution_count": null,
   "id": "2f35496c",
   "metadata": {},
   "outputs": [],
   "source": [
    "theo dòng: database vận hàng web/app, phần mềm"
   ]
  }
 ],
 "metadata": {
  "kernelspec": {
   "display_name": "Python 3",
   "language": "python",
   "name": "python3"
  },
  "language_info": {
   "codemirror_mode": {
    "name": "ipython",
    "version": 3
   },
   "file_extension": ".py",
   "mimetype": "text/x-python",
   "name": "python",
   "nbconvert_exporter": "python",
   "pygments_lexer": "ipython3",
   "version": "3.12.7"
  }
 },
 "nbformat": 4,
 "nbformat_minor": 5
}
